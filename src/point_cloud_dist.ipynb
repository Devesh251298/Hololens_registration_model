{
 "cells": [
  {
   "cell_type": "code",
   "execution_count": 4,
   "metadata": {},
   "outputs": [
    {
     "name": "stdout",
     "output_type": "stream",
     "text": [
      "Mean distance between the point clouds: 62.09 units\n"
     ]
    }
   ],
   "source": [
    "import open3d as o3d\n",
    "import numpy as np\n",
    "from scipy.spatial import KDTree\n",
    "\n",
    "def load_point_cloud(ply_file):\n",
    "    # Load a point cloud from a .ply file\n",
    "    pcd = o3d.io.read_point_cloud(ply_file)\n",
    "    return pcd\n",
    "\n",
    "def calculate_distance(pcd1, pcd2):\n",
    "    # Convert point clouds to numpy arrays\n",
    "    points1 = np.asarray(pcd1.points)\n",
    "    points2 = np.asarray(pcd2.points)\n",
    "\n",
    "    # Build KD tree for the second point cloud\n",
    "    kdtree = KDTree(points2)\n",
    "\n",
    "    # Find the nearest neighbor in pcd2 for each point in pcd1\n",
    "    distances, _ = kdtree.query(points1)\n",
    "\n",
    "    # Calculate the mean distance or any other statistic as needed\n",
    "    mean_distance = np.mean(distances)\n",
    "\n",
    "    return mean_distance\n",
    "\n",
    "if __name__ == \"__main__\":\n",
    "    # Replace with your file paths\n",
    "    file1 = \"results_mesh/_registered_mesh_rgbd0.ply\"\n",
    "    file2 = \"results_mesh/_target_mesh_rgbd0.ply\"\n",
    "\n",
    "    # Load the point clouds\n",
    "    pcd1 = load_point_cloud(file1)\n",
    "    pcd2 = load_point_cloud(file2)\n",
    "\n",
    "    # Calculate the distance\n",
    "    distance = calculate_distance(pcd1, pcd2)\n",
    "\n",
    "    print(f\"Mean distance between the point clouds: {distance:.2f} units\")\n"
   ]
  },
  {
   "cell_type": "code",
   "execution_count": null,
   "metadata": {},
   "outputs": [],
   "source": [
    "python eval.py --object_file STL/Segmentation_skin70.stl  --target_file STL/new_color.ply --num_point 2000 --visualize True --resume models/model-updated2.pth --num_planes 0 --save_mesh True --capture_rgb True --iterations 20 --rot_mag 40 --trans_mag  5"
   ]
  }
 ],
 "metadata": {
  "kernelspec": {
   "display_name": "Python 3",
   "language": "python",
   "name": "python3"
  },
  "language_info": {
   "codemirror_mode": {
    "name": "ipython",
    "version": 3
   },
   "file_extension": ".py",
   "mimetype": "text/x-python",
   "name": "python",
   "nbconvert_exporter": "python",
   "pygments_lexer": "ipython3",
   "version": "3.10.12"
  },
  "orig_nbformat": 4
 },
 "nbformat": 4,
 "nbformat_minor": 2
}
